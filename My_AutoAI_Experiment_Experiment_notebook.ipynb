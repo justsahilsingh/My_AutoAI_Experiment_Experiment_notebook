{
  "cells": [
    {
      "cell_type": "markdown",
      "metadata": {
        "id": "tuKTbf46xOz2"
      },
      "source": [
        "<a id=\"install\"></a>\n",
        "## Package installation\n",
        "Before you use the sample code in this notebook, install the following packages:\n",
        " - ibm-watson-machine-learning,\n",
        " - autoai-libs,\n",
        " - lale,\n",
        " - scikit-learn,\n",
        " - xgboost,\n",
        " - lightgbm,\n",
        " - snapml\n"
      ]
    },
    {
      "cell_type": "code",
      "execution_count": null,
      "metadata": {
        "pycharm": {
          "name": "#%%\n"
        },
        "id": "Zt0Eeh_2xOz3"
      },
      "outputs": [],
      "source": [
        "!pip install ibm-watson-machine-learning | tail -n 1\n",
        "!pip install autoai-libs==1.14.13 | tail -n 1\n",
        "!pip install 'lale>=0.7,<0.8' | tail -n 1\n",
        "!pip install scikit-learn==1.1.1 | tail -n 1\n",
        "!pip install xgboost==1.6.2 | tail -n 1\n",
        "!pip install lightgbm==3.3.2 | tail -n 1\n",
        "!pip install 'snapml==1.8.12' | tail -n 1"
      ]
    },
    {
      "cell_type": "markdown",
      "metadata": {
        "id": "I4RMo-EnxOz4"
      },
      "source": [
        "<a id=\"configuration\"></a>\n",
        "# Experiment configuration"
      ]
    },
    {
      "cell_type": "markdown",
      "metadata": {
        "pycharm": {
          "name": "#%% md\n"
        },
        "id": "anaBHGVExOz4"
      },
      "source": [
        "<a id=\"metadata\"></a>\n",
        "## Experiment metadata\n",
        "This cell defines the metadata for the experiment, including: training_data_references, training_result_reference, experiment_metadata."
      ]
    },
    {
      "cell_type": "code",
      "execution_count": null,
      "metadata": {
        "pycharm": {
          "name": "#%%\n"
        },
        "id": "lqsDHzg-xOz5"
      },
      "outputs": [],
      "source": [
        "from ibm_watson_machine_learning.helpers import DataConnection\n",
        "from ibm_watson_machine_learning.helpers import ContainerLocation\n",
        "\n",
        "training_data_references = [\n",
        "    DataConnection(\n",
        "        data_asset_id='ee6f5e29-e275-41cf-8bf1-8c1001f6abd6'\n",
        "    ),\n",
        "]\n",
        "training_result_reference = DataConnection(\n",
        "    location=ContainerLocation(\n",
        "        path='auto_ml/0458512f-683e-41e2-beec-e1c64832b84e/wml_data/e8b7cec1-7a26-4162-b472-1cec67c047f4/data/automl',\n",
        "        model_location='auto_ml/0458512f-683e-41e2-beec-e1c64832b84e/wml_data/e8b7cec1-7a26-4162-b472-1cec67c047f4/data/automl/model.zip',\n",
        "        training_status='auto_ml/0458512f-683e-41e2-beec-e1c64832b84e/wml_data/e8b7cec1-7a26-4162-b472-1cec67c047f4/training-status.json'\n",
        "    )\n",
        ")"
      ]
    },
    {
      "cell_type": "code",
      "execution_count": null,
      "metadata": {
        "pycharm": {
          "name": "#%%\n"
        },
        "id": "vN1g8IInxOz5"
      },
      "outputs": [],
      "source": [
        "experiment_metadata = dict(\n",
        "    prediction_type='binary',\n",
        "    prediction_column='CHURN',\n",
        "    holdout_size=0.1,\n",
        "    scoring='accuracy',\n",
        "    csv_separator=',',\n",
        "    random_state=33,\n",
        "    max_number_of_estimators=2,\n",
        "    training_data_references=training_data_references,\n",
        "    training_result_reference=training_result_reference,\n",
        "    deployment_url='https://eu-de.ml.cloud.ibm.com',\n",
        "    project_id='99c5b129-c78f-4426-822e-2a30db1237d7',\n",
        "    train_sample_columns_index_list=[1, 2, 3, 4, 5, 6, 7, 8, 9, 10, 11, 12, 13, 14, 15],\n",
        "    positive_label='T',\n",
        "    drop_duplicates=True,\n",
        "    include_batched_ensemble_estimators=[]\n",
        ")"
      ]
    },
    {
      "cell_type": "code",
      "execution_count": null,
      "metadata": {
        "pycharm": {
          "name": "#%%\n"
        },
        "id": "e5xmYnpkxOz6"
      },
      "outputs": [],
      "source": [
        "api_key = 'PUT_YOUR_APIKEY_HERE'"
      ]
    },
    {
      "cell_type": "code",
      "execution_count": null,
      "metadata": {
        "pycharm": {
          "name": "#%%\n"
        },
        "id": "Jb--hYMIxOz6"
      },
      "outputs": [],
      "source": [
        "wml_credentials = {\n",
        "    \"apikey\": api_key,\n",
        "    \"url\": experiment_metadata['deployment_url']\n",
        "}"
      ]
    },
    {
      "cell_type": "markdown",
      "metadata": {
        "id": "-EO-mGTwxOz6"
      },
      "source": [
        "<a id=\"work\"></a>\n",
        "\n",
        "\n",
        "# Working with the completed AutoAI experiment\n",
        "\n",
        "This cell imports the pipelines generated for the experiment. The best pipeline will be saved as a model."
      ]
    },
    {
      "cell_type": "markdown",
      "metadata": {
        "id": "Pth1U9ANxOz6"
      },
      "source": [
        "<a id=\"get\"></a>\n",
        "\n",
        "\n",
        "## Get fitted AutoAI optimizer"
      ]
    },
    {
      "cell_type": "code",
      "execution_count": null,
      "metadata": {
        "pycharm": {
          "name": "#%%\n"
        },
        "id": "NwWDqUCxxOz6"
      },
      "outputs": [],
      "source": [
        "from ibm_watson_machine_learning.experiment import AutoAI\n",
        "\n",
        "pipeline_optimizer = AutoAI(wml_credentials, project_id=experiment_metadata['project_id']).runs.get_optimizer(metadata=experiment_metadata)"
      ]
    },
    {
      "cell_type": "markdown",
      "metadata": {
        "id": "2m19mHhNxOz7"
      },
      "source": [
        "Use `get_params()` to retrieve configuration parameters."
      ]
    },
    {
      "cell_type": "code",
      "execution_count": null,
      "metadata": {
        "pycharm": {
          "name": "#%%\n"
        },
        "id": "_qbco8fHxOz7"
      },
      "outputs": [],
      "source": [
        "pipeline_optimizer.get_params()"
      ]
    },
    {
      "cell_type": "markdown",
      "metadata": {
        "pycharm": {
          "name": "#%% md\n"
        },
        "id": "BR4FcPFyxOz7"
      },
      "source": [
        "<a id=\"comparison\"></a>\n",
        "## Pipelines comparison\n",
        "\n",
        "Use the `summary()` method to list trained pipelines and evaluation metrics information in\n",
        "the form of a Pandas DataFrame. You can use the DataFrame to compare all discovered pipelines and select the one you like for further testing."
      ]
    },
    {
      "cell_type": "code",
      "execution_count": null,
      "metadata": {
        "pycharm": {
          "name": "#%%\n"
        },
        "id": "YL106bvlxOz8"
      },
      "outputs": [],
      "source": [
        "summary = pipeline_optimizer.summary()\n",
        "best_pipeline_name = list(summary.index)[0]\n",
        "summary"
      ]
    },
    {
      "cell_type": "markdown",
      "metadata": {
        "id": "YsZ_Ol1hxOz8"
      },
      "source": [
        "<a id=\"get_pipeline\"></a>\n",
        "### Get pipeline as a scikit-learn pipeline model\n",
        "\n",
        "After you compare the pipelines, download and save a scikit-learn pipeline model object from the\n",
        "AutoAI training job.\n",
        "\n",
        "**Tip:** To get a specific pipeline, pass the pipeline name in:\n",
        "```\n",
        "pipeline_optimizer.get_pipeline(pipeline_name=pipeline_name)\n",
        "```"
      ]
    },
    {
      "cell_type": "code",
      "execution_count": null,
      "metadata": {
        "pycharm": {
          "name": "#%%\n"
        },
        "id": "XnT5-6FhxOz8"
      },
      "outputs": [],
      "source": [
        "pipeline_model = pipeline_optimizer.get_pipeline()"
      ]
    },
    {
      "cell_type": "markdown",
      "metadata": {
        "id": "TRoho7jOxOz8"
      },
      "source": [
        "Next, check the importance of features for selected pipeline."
      ]
    },
    {
      "cell_type": "code",
      "execution_count": null,
      "metadata": {
        "pycharm": {
          "name": "#%%\n"
        },
        "id": "bBBfxv8dxOz8"
      },
      "outputs": [],
      "source": [
        "pipeline_optimizer.get_pipeline_details()['features_importance']"
      ]
    },
    {
      "cell_type": "markdown",
      "metadata": {
        "id": "SQu43Nt_xOz9"
      },
      "source": [
        "**Tip:** If you want to check all the details of the model evaluation metrics, use:\n",
        "```\n",
        "pipeline_optimizer.get_pipeline_details()\n",
        "```"
      ]
    },
    {
      "cell_type": "markdown",
      "metadata": {
        "id": "UmvRpdLFxOz9"
      },
      "source": [
        "<a id=\"inspect_pipeline\"></a>\n",
        "## Inspect pipeline"
      ]
    },
    {
      "cell_type": "markdown",
      "metadata": {
        "id": "2o-qMwS_xOz9"
      },
      "source": [
        "<a id=\"visualize\"></a>\n",
        "### Visualize pipeline model\n",
        "\n",
        "Preview pipeline model stages as a graph. Each node's name links to a detailed description of the stage.\n"
      ]
    },
    {
      "cell_type": "code",
      "execution_count": null,
      "metadata": {
        "pycharm": {
          "name": "#%%\n"
        },
        "id": "HwMI-lDrxOz9"
      },
      "outputs": [],
      "source": [
        "pipeline_model.visualize()"
      ]
    },
    {
      "cell_type": "markdown",
      "metadata": {
        "id": "JtSGDkToxOz9"
      },
      "source": [
        "<a id=\"preview\"></a>\n",
        "### Preview pipeline model as a Python code\n",
        "In the next cell, you can preview the saved pipeline model as a Python code.  \n",
        "You can review the exact steps used to create the model.\n",
        "\n",
        "**Note:** If you want to get sklearn representation, add the following parameter to the `pretty_print` call: `astype='sklearn'`."
      ]
    },
    {
      "cell_type": "code",
      "execution_count": null,
      "metadata": {
        "pycharm": {
          "name": "#%%\n"
        },
        "id": "j1ATXRGuxOz9"
      },
      "outputs": [],
      "source": [
        "pipeline_model.pretty_print(combinators=False, ipython_display=True)"
      ]
    },
    {
      "cell_type": "markdown",
      "metadata": {
        "id": "FFMHpwXNxOz9"
      },
      "source": [
        "### Calling the `predict` method\n",
        "If you want to get a prediction by using the pipeline model object, call `pipeline_model.predict()`.\n",
        "\n",
        "**Note:** If you want to work with a pure sklearn model:\n",
        " - add the following parameter to the `get_pipeline` call: `astype='sklearn'`,\n",
        " - or `scikit_learn_pipeline = pipeline_model.export_to_sklearn_pipeline()`"
      ]
    },
    {
      "cell_type": "markdown",
      "metadata": {
        "tags": [],
        "id": "OEArYbJpxOz9"
      },
      "source": [
        "<a id=\"scoring\"></a>\n",
        "## Deploy and Score\n",
        "\n",
        "In this section you will learn how to deploy and score the model as a web service."
      ]
    },
    {
      "cell_type": "markdown",
      "metadata": {
        "id": "mD3Tc3BQxOz-"
      },
      "source": [
        "### Deployment creation"
      ]
    },
    {
      "cell_type": "code",
      "execution_count": null,
      "metadata": {
        "pycharm": {
          "name": "#%%\n"
        },
        "id": "yBVMUxDIxOz-"
      },
      "outputs": [],
      "source": [
        "target_space_id = \"PUT_YOUR_TARGET_SPACE_ID_HERE\"\n",
        "\n",
        "from ibm_watson_machine_learning.deployment import WebService\n",
        "\n",
        "service = WebService(\n",
        "    source_wml_credentials=wml_credentials,\n",
        "    target_wml_credentials=wml_credentials,\n",
        "    source_project_id=experiment_metadata['project_id'],\n",
        "    target_space_id=target_space_id\n",
        ")\n",
        "service.create(\n",
        "    model=best_pipeline_name,\n",
        "    metadata=experiment_metadata,\n",
        "    deployment_name='Best_pipeline_webservice'\n",
        ")"
      ]
    },
    {
      "cell_type": "markdown",
      "metadata": {
        "id": "IWkstP2gxOz-"
      },
      "source": [
        "Use the `print` method for the deployment object to show basic information about the service:"
      ]
    },
    {
      "cell_type": "code",
      "execution_count": null,
      "metadata": {
        "pycharm": {
          "name": "#%%\n"
        },
        "id": "7NPE0LVPxOz-"
      },
      "outputs": [],
      "source": [
        "print(service)"
      ]
    },
    {
      "cell_type": "markdown",
      "metadata": {
        "id": "TGqyL0WQxOz-"
      },
      "source": [
        "To show all available information about the deployment, use the `.get_params()` method."
      ]
    },
    {
      "cell_type": "code",
      "execution_count": null,
      "metadata": {
        "pycharm": {
          "name": "#%%\n"
        },
        "id": "LbxPVlSbxOz-"
      },
      "outputs": [],
      "source": [
        "service.get_params()"
      ]
    },
    {
      "cell_type": "markdown",
      "metadata": {
        "id": "2O1sWlv7xOz-"
      },
      "source": [
        "### Scoring of webservice\n",
        "You can make a scoring request by calling `score()` on the deployed pipeline."
      ]
    },
    {
      "cell_type": "markdown",
      "metadata": {
        "id": "g9AEmvHfxO0C"
      },
      "source": [
        "If you want to work with the web service in an external Python application, follow these steps to retrieve the service object:\n",
        "\n",
        " - Initialize the service by `service = WebService(target_wml_credentials=wml_credentials,target_space_id=experiment_metadata['space_id'])`\n",
        " - Get deployment_id: `service.list()`\n",
        " - Get webservice object: `service.get('deployment_id')`\n",
        "\n",
        "After that you can call `service.score(score_records_df)` method. The `score()` method accepts `pandas.DataFrame` objects."
      ]
    },
    {
      "cell_type": "markdown",
      "metadata": {
        "id": "hx0AEsL5xO0C"
      },
      "source": [
        "<a id=\"cleanup\"></a>\n",
        "### Deleting deployment\n",
        "You can delete the existing deployment by calling the `service.delete()` command.\n",
        "To list the existing web services, use the `service.list()` method."
      ]
    },
    {
      "cell_type": "markdown",
      "metadata": {
        "id": "X7JYXAejxO0C"
      },
      "source": [
        "<a id=\"run\"></a>\n",
        "\n",
        "## Running the AutoAI experiment with Python API"
      ]
    },
    {
      "cell_type": "markdown",
      "metadata": {
        "id": "UFaKv7TDxO0D"
      },
      "source": [
        "If you want to run the AutoAI experiment using the Python API, follow these steps. The experiment settings were generated basing on parameters set in the AutoAI UI.\n"
      ]
    },
    {
      "cell_type": "markdown",
      "metadata": {
        "pycharm": {
          "name": "#%%\n"
        },
        "id": "LsCZrYAdxO0D"
      },
      "source": [
        "```\n",
        "from ibm_watson_machine_learning.experiment import AutoAI\n",
        "\n",
        "experiment = AutoAI(wml_credentials, project_id=experiment_metadata['project_id'])\n",
        "```"
      ]
    },
    {
      "cell_type": "markdown",
      "metadata": {
        "id": "vFhpWABjxO0D"
      },
      "source": [
        "```\n",
        "OPTIMIZER_NAME = 'custom_name'\n",
        "```"
      ]
    },
    {
      "cell_type": "markdown",
      "metadata": {
        "pycharm": {
          "name": "#%% raw\n"
        },
        "id": "ND5VN8EGxO0D"
      },
      "source": [
        "```\n",
        "from ibm_watson_machine_learning.helpers import DataConnection\n",
        "from ibm_watson_machine_learning.helpers import ContainerLocation\n",
        "\n",
        "training_data_references = [\n",
        "    DataConnection(\n",
        "        data_asset_id='ee6f5e29-e275-41cf-8bf1-8c1001f6abd6'\n",
        "    ),\n",
        "]\n",
        "training_result_reference = DataConnection(\n",
        "    location=ContainerLocation(\n",
        "        path='auto_ml/0458512f-683e-41e2-beec-e1c64832b84e/wml_data/e8b7cec1-7a26-4162-b472-1cec67c047f4/data/automl',\n",
        "        model_location='auto_ml/0458512f-683e-41e2-beec-e1c64832b84e/wml_data/e8b7cec1-7a26-4162-b472-1cec67c047f4/data/automl/model.zip',\n",
        "        training_status='auto_ml/0458512f-683e-41e2-beec-e1c64832b84e/wml_data/e8b7cec1-7a26-4162-b472-1cec67c047f4/training-status.json'\n",
        "    )\n",
        ")\n",
        "```"
      ]
    },
    {
      "cell_type": "markdown",
      "metadata": {
        "id": "BIc2pqYpxO0D"
      },
      "source": [
        "The new pipeline optimizer will be created and training will be triggered."
      ]
    },
    {
      "cell_type": "markdown",
      "metadata": {
        "pycharm": {
          "name": "#%%raw\n"
        },
        "id": "3HrqTojIxO0D"
      },
      "source": [
        "```\n",
        "pipeline_optimizer = experiment.optimizer(\n",
        "    name=OPTIMIZER_NAME,\n",
        "    prediction_type=experiment_metadata['prediction_type'],\n",
        "    prediction_column=experiment_metadata['prediction_column'],\n",
        "    scoring=experiment_metadata['scoring'],\n",
        "    holdout_size=experiment_metadata['holdout_size'],\n",
        "    csv_separator=experiment_metadata['csv_separator'],\n",
        "    positive_label=experiment_metadata['positive_label'],\n",
        "    drop_duplicates=experiment_metadata['drop_duplicates'],\n",
        "    include_batched_ensemble_estimators=experiment_metadata['include_batched_ensemble_estimators'],\n",
        "    train_sample_columns_index_list=experiment_metadata['train_sample_columns_index_list'],\n",
        ")\n",
        "```"
      ]
    },
    {
      "cell_type": "markdown",
      "metadata": {
        "id": "Z0DCB2UuxO0D"
      },
      "source": [
        "```\n",
        "pipeline_optimizer.fit(\n",
        "    training_data_references=training_data_references,\n",
        "    training_results_reference=training_result_reference,\n",
        ")\n",
        "```"
      ]
    }
  ],
  "metadata": {
    "kernelspec": {
      "display_name": "Python 3 (ipykernel)",
      "language": "python",
      "name": "python3"
    },
    "language_info": {
      "codemirror_mode": {
        "name": "ipython",
        "version": 3
      },
      "file_extension": ".py",
      "mimetype": "text/x-python",
      "name": "python",
      "nbconvert_exporter": "python",
      "pygments_lexer": "ipython3",
      "version": "3.9.7"
    },
    "pycharm": {
      "stem_cell": {
        "cell_type": "raw",
        "metadata": {
          "collapsed": false
        },
        "source": [
          "\n"
        ]
      }
    },
    "colab": {
      "provenance": []
    }
  },
  "nbformat": 4,
  "nbformat_minor": 0
}